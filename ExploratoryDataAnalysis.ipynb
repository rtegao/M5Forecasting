{
 "cells": [
  {
   "cell_type": "markdown",
   "metadata": {},
   "source": [
    "# Libraries"
   ]
  },
  {
   "cell_type": "code",
   "execution_count": 1,
   "metadata": {},
   "outputs": [],
   "source": [
    "import pandas as pd\n",
    "import matplotlib.pyplot as plt"
   ]
  },
  {
   "cell_type": "markdown",
   "metadata": {},
   "source": [
    "# Databases"
   ]
  },
  {
   "cell_type": "code",
   "execution_count": 2,
   "metadata": {},
   "outputs": [],
   "source": [
    "# Contains information about the dates the products are sold.\n",
    "df_calendar = pd.read_csv('calendar.csv')"
   ]
  },
  {
   "cell_type": "code",
   "execution_count": 4,
   "metadata": {},
   "outputs": [],
   "source": [
    "# Contains information about the price of the products sold per store and date.\n",
    "df_price = pd.read_csv('sell_prices.csv')"
   ]
  },
  {
   "cell_type": "code",
   "execution_count": 5,
   "metadata": {},
   "outputs": [],
   "source": [
    "#Contains the historical daily unit sales data per product and store.\n",
    "df_sales = pd.read_csv('sales_train_validation.csv')"
   ]
  },
  {
   "cell_type": "markdown",
   "metadata": {},
   "source": [
    "# Visualizing DataBases"
   ]
  },
  {
   "cell_type": "code",
   "execution_count": 6,
   "metadata": {},
   "outputs": [
    {
     "output_type": "execute_result",
     "data": {
      "text/plain": "            date  wm_yr_wk    weekday  wday  month  year       d  \\\n0     2011-01-29     11101   Saturday     1      1  2011     d_1   \n1     2011-01-30     11101     Sunday     2      1  2011     d_2   \n2     2011-01-31     11101     Monday     3      1  2011     d_3   \n3     2011-02-01     11101    Tuesday     4      2  2011     d_4   \n4     2011-02-02     11101  Wednesday     5      2  2011     d_5   \n...          ...       ...        ...   ...    ...   ...     ...   \n1964  2016-06-15     11620  Wednesday     5      6  2016  d_1965   \n1965  2016-06-16     11620   Thursday     6      6  2016  d_1966   \n1966  2016-06-17     11620     Friday     7      6  2016  d_1967   \n1967  2016-06-18     11621   Saturday     1      6  2016  d_1968   \n1968  2016-06-19     11621     Sunday     2      6  2016  d_1969   \n\n      event_name_1 event_type_1  event_name_2 event_type_2  snap_CA  snap_TX  \\\n0              NaN          NaN           NaN          NaN        0        0   \n1              NaN          NaN           NaN          NaN        0        0   \n2              NaN          NaN           NaN          NaN        0        0   \n3              NaN          NaN           NaN          NaN        1        1   \n4              NaN          NaN           NaN          NaN        1        0   \n...            ...          ...           ...          ...      ...      ...   \n1964           NaN          NaN           NaN          NaN        0        1   \n1965           NaN          NaN           NaN          NaN        0        0   \n1966           NaN          NaN           NaN          NaN        0        0   \n1967           NaN          NaN           NaN          NaN        0        0   \n1968  NBAFinalsEnd     Sporting  Father's day     Cultural        0        0   \n\n      snap_WI  \n0           0  \n1           0  \n2           0  \n3           0  \n4           1  \n...       ...  \n1964        1  \n1965        0  \n1966        0  \n1967        0  \n1968        0  \n\n[1969 rows x 14 columns]",
      "text/html": "<div>\n<style scoped>\n    .dataframe tbody tr th:only-of-type {\n        vertical-align: middle;\n    }\n\n    .dataframe tbody tr th {\n        vertical-align: top;\n    }\n\n    .dataframe thead th {\n        text-align: right;\n    }\n</style>\n<table border=\"1\" class=\"dataframe\">\n  <thead>\n    <tr style=\"text-align: right;\">\n      <th></th>\n      <th>date</th>\n      <th>wm_yr_wk</th>\n      <th>weekday</th>\n      <th>wday</th>\n      <th>month</th>\n      <th>year</th>\n      <th>d</th>\n      <th>event_name_1</th>\n      <th>event_type_1</th>\n      <th>event_name_2</th>\n      <th>event_type_2</th>\n      <th>snap_CA</th>\n      <th>snap_TX</th>\n      <th>snap_WI</th>\n    </tr>\n  </thead>\n  <tbody>\n    <tr>\n      <th>0</th>\n      <td>2011-01-29</td>\n      <td>11101</td>\n      <td>Saturday</td>\n      <td>1</td>\n      <td>1</td>\n      <td>2011</td>\n      <td>d_1</td>\n      <td>NaN</td>\n      <td>NaN</td>\n      <td>NaN</td>\n      <td>NaN</td>\n      <td>0</td>\n      <td>0</td>\n      <td>0</td>\n    </tr>\n    <tr>\n      <th>1</th>\n      <td>2011-01-30</td>\n      <td>11101</td>\n      <td>Sunday</td>\n      <td>2</td>\n      <td>1</td>\n      <td>2011</td>\n      <td>d_2</td>\n      <td>NaN</td>\n      <td>NaN</td>\n      <td>NaN</td>\n      <td>NaN</td>\n      <td>0</td>\n      <td>0</td>\n      <td>0</td>\n    </tr>\n    <tr>\n      <th>2</th>\n      <td>2011-01-31</td>\n      <td>11101</td>\n      <td>Monday</td>\n      <td>3</td>\n      <td>1</td>\n      <td>2011</td>\n      <td>d_3</td>\n      <td>NaN</td>\n      <td>NaN</td>\n      <td>NaN</td>\n      <td>NaN</td>\n      <td>0</td>\n      <td>0</td>\n      <td>0</td>\n    </tr>\n    <tr>\n      <th>3</th>\n      <td>2011-02-01</td>\n      <td>11101</td>\n      <td>Tuesday</td>\n      <td>4</td>\n      <td>2</td>\n      <td>2011</td>\n      <td>d_4</td>\n      <td>NaN</td>\n      <td>NaN</td>\n      <td>NaN</td>\n      <td>NaN</td>\n      <td>1</td>\n      <td>1</td>\n      <td>0</td>\n    </tr>\n    <tr>\n      <th>4</th>\n      <td>2011-02-02</td>\n      <td>11101</td>\n      <td>Wednesday</td>\n      <td>5</td>\n      <td>2</td>\n      <td>2011</td>\n      <td>d_5</td>\n      <td>NaN</td>\n      <td>NaN</td>\n      <td>NaN</td>\n      <td>NaN</td>\n      <td>1</td>\n      <td>0</td>\n      <td>1</td>\n    </tr>\n    <tr>\n      <th>...</th>\n      <td>...</td>\n      <td>...</td>\n      <td>...</td>\n      <td>...</td>\n      <td>...</td>\n      <td>...</td>\n      <td>...</td>\n      <td>...</td>\n      <td>...</td>\n      <td>...</td>\n      <td>...</td>\n      <td>...</td>\n      <td>...</td>\n      <td>...</td>\n    </tr>\n    <tr>\n      <th>1964</th>\n      <td>2016-06-15</td>\n      <td>11620</td>\n      <td>Wednesday</td>\n      <td>5</td>\n      <td>6</td>\n      <td>2016</td>\n      <td>d_1965</td>\n      <td>NaN</td>\n      <td>NaN</td>\n      <td>NaN</td>\n      <td>NaN</td>\n      <td>0</td>\n      <td>1</td>\n      <td>1</td>\n    </tr>\n    <tr>\n      <th>1965</th>\n      <td>2016-06-16</td>\n      <td>11620</td>\n      <td>Thursday</td>\n      <td>6</td>\n      <td>6</td>\n      <td>2016</td>\n      <td>d_1966</td>\n      <td>NaN</td>\n      <td>NaN</td>\n      <td>NaN</td>\n      <td>NaN</td>\n      <td>0</td>\n      <td>0</td>\n      <td>0</td>\n    </tr>\n    <tr>\n      <th>1966</th>\n      <td>2016-06-17</td>\n      <td>11620</td>\n      <td>Friday</td>\n      <td>7</td>\n      <td>6</td>\n      <td>2016</td>\n      <td>d_1967</td>\n      <td>NaN</td>\n      <td>NaN</td>\n      <td>NaN</td>\n      <td>NaN</td>\n      <td>0</td>\n      <td>0</td>\n      <td>0</td>\n    </tr>\n    <tr>\n      <th>1967</th>\n      <td>2016-06-18</td>\n      <td>11621</td>\n      <td>Saturday</td>\n      <td>1</td>\n      <td>6</td>\n      <td>2016</td>\n      <td>d_1968</td>\n      <td>NaN</td>\n      <td>NaN</td>\n      <td>NaN</td>\n      <td>NaN</td>\n      <td>0</td>\n      <td>0</td>\n      <td>0</td>\n    </tr>\n    <tr>\n      <th>1968</th>\n      <td>2016-06-19</td>\n      <td>11621</td>\n      <td>Sunday</td>\n      <td>2</td>\n      <td>6</td>\n      <td>2016</td>\n      <td>d_1969</td>\n      <td>NBAFinalsEnd</td>\n      <td>Sporting</td>\n      <td>Father's day</td>\n      <td>Cultural</td>\n      <td>0</td>\n      <td>0</td>\n      <td>0</td>\n    </tr>\n  </tbody>\n</table>\n<p>1969 rows × 14 columns</p>\n</div>"
     },
     "metadata": {},
     "execution_count": 6
    }
   ],
   "source": [
    "df_calendar"
   ]
  },
  {
   "cell_type": "code",
   "execution_count": 10,
   "metadata": {},
   "outputs": [
    {
     "output_type": "execute_result",
     "data": {
      "text/plain": "        store_id        item_id  wm_yr_wk  sell_price\n0           CA_1  HOBBIES_1_001     11325        9.58\n1           CA_1  HOBBIES_1_001     11326        9.58\n2           CA_1  HOBBIES_1_001     11327        8.26\n3           CA_1  HOBBIES_1_001     11328        8.26\n4           CA_1  HOBBIES_1_001     11329        8.26\n...          ...            ...       ...         ...\n6841116     WI_3    FOODS_3_827     11617        1.00\n6841117     WI_3    FOODS_3_827     11618        1.00\n6841118     WI_3    FOODS_3_827     11619        1.00\n6841119     WI_3    FOODS_3_827     11620        1.00\n6841120     WI_3    FOODS_3_827     11621        1.00\n\n[6841121 rows x 4 columns]",
      "text/html": "<div>\n<style scoped>\n    .dataframe tbody tr th:only-of-type {\n        vertical-align: middle;\n    }\n\n    .dataframe tbody tr th {\n        vertical-align: top;\n    }\n\n    .dataframe thead th {\n        text-align: right;\n    }\n</style>\n<table border=\"1\" class=\"dataframe\">\n  <thead>\n    <tr style=\"text-align: right;\">\n      <th></th>\n      <th>store_id</th>\n      <th>item_id</th>\n      <th>wm_yr_wk</th>\n      <th>sell_price</th>\n    </tr>\n  </thead>\n  <tbody>\n    <tr>\n      <th>0</th>\n      <td>CA_1</td>\n      <td>HOBBIES_1_001</td>\n      <td>11325</td>\n      <td>9.58</td>\n    </tr>\n    <tr>\n      <th>1</th>\n      <td>CA_1</td>\n      <td>HOBBIES_1_001</td>\n      <td>11326</td>\n      <td>9.58</td>\n    </tr>\n    <tr>\n      <th>2</th>\n      <td>CA_1</td>\n      <td>HOBBIES_1_001</td>\n      <td>11327</td>\n      <td>8.26</td>\n    </tr>\n    <tr>\n      <th>3</th>\n      <td>CA_1</td>\n      <td>HOBBIES_1_001</td>\n      <td>11328</td>\n      <td>8.26</td>\n    </tr>\n    <tr>\n      <th>4</th>\n      <td>CA_1</td>\n      <td>HOBBIES_1_001</td>\n      <td>11329</td>\n      <td>8.26</td>\n    </tr>\n    <tr>\n      <th>...</th>\n      <td>...</td>\n      <td>...</td>\n      <td>...</td>\n      <td>...</td>\n    </tr>\n    <tr>\n      <th>6841116</th>\n      <td>WI_3</td>\n      <td>FOODS_3_827</td>\n      <td>11617</td>\n      <td>1.00</td>\n    </tr>\n    <tr>\n      <th>6841117</th>\n      <td>WI_3</td>\n      <td>FOODS_3_827</td>\n      <td>11618</td>\n      <td>1.00</td>\n    </tr>\n    <tr>\n      <th>6841118</th>\n      <td>WI_3</td>\n      <td>FOODS_3_827</td>\n      <td>11619</td>\n      <td>1.00</td>\n    </tr>\n    <tr>\n      <th>6841119</th>\n      <td>WI_3</td>\n      <td>FOODS_3_827</td>\n      <td>11620</td>\n      <td>1.00</td>\n    </tr>\n    <tr>\n      <th>6841120</th>\n      <td>WI_3</td>\n      <td>FOODS_3_827</td>\n      <td>11621</td>\n      <td>1.00</td>\n    </tr>\n  </tbody>\n</table>\n<p>6841121 rows × 4 columns</p>\n</div>"
     },
     "metadata": {},
     "execution_count": 10
    }
   ],
   "source": [
    "df_price"
   ]
  },
  {
   "cell_type": "code",
   "execution_count": 8,
   "metadata": {},
   "outputs": [
    {
     "output_type": "execute_result",
     "data": {
      "text/plain": "                                  id        item_id    dept_id   cat_id  \\\n0      HOBBIES_1_001_CA_1_validation  HOBBIES_1_001  HOBBIES_1  HOBBIES   \n1      HOBBIES_1_002_CA_1_validation  HOBBIES_1_002  HOBBIES_1  HOBBIES   \n2      HOBBIES_1_003_CA_1_validation  HOBBIES_1_003  HOBBIES_1  HOBBIES   \n3      HOBBIES_1_004_CA_1_validation  HOBBIES_1_004  HOBBIES_1  HOBBIES   \n4      HOBBIES_1_005_CA_1_validation  HOBBIES_1_005  HOBBIES_1  HOBBIES   \n...                              ...            ...        ...      ...   \n30485    FOODS_3_823_WI_3_validation    FOODS_3_823    FOODS_3    FOODS   \n30486    FOODS_3_824_WI_3_validation    FOODS_3_824    FOODS_3    FOODS   \n30487    FOODS_3_825_WI_3_validation    FOODS_3_825    FOODS_3    FOODS   \n30488    FOODS_3_826_WI_3_validation    FOODS_3_826    FOODS_3    FOODS   \n30489    FOODS_3_827_WI_3_validation    FOODS_3_827    FOODS_3    FOODS   \n\n      store_id state_id  d_1  d_2  d_3  d_4  ...  d_1904  d_1905  d_1906  \\\n0         CA_1       CA    0    0    0    0  ...       1       3       0   \n1         CA_1       CA    0    0    0    0  ...       0       0       0   \n2         CA_1       CA    0    0    0    0  ...       2       1       2   \n3         CA_1       CA    0    0    0    0  ...       1       0       5   \n4         CA_1       CA    0    0    0    0  ...       2       1       1   \n...        ...      ...  ...  ...  ...  ...  ...     ...     ...     ...   \n30485     WI_3       WI    0    0    2    2  ...       2       0       0   \n30486     WI_3       WI    0    0    0    0  ...       0       0       0   \n30487     WI_3       WI    0    6    0    2  ...       2       1       0   \n30488     WI_3       WI    0    0    0    0  ...       0       0       1   \n30489     WI_3       WI    0    0    0    0  ...       0       0       0   \n\n       d_1907  d_1908  d_1909  d_1910  d_1911  d_1912  d_1913  \n0           1       1       1       3       0       1       1  \n1           0       0       1       0       0       0       0  \n2           1       1       1       0       1       1       1  \n3           4       1       0       1       3       7       2  \n4           0       1       1       2       2       2       4  \n...       ...     ...     ...     ...     ...     ...     ...  \n30485       0       0       0       1       0       0       1  \n30486       0       0       0       0       0       1       0  \n30487       2       0       1       0       0       1       0  \n30488       0       0       1       0       3       1       3  \n30489       0       0       0       0       0       0       0  \n\n[30490 rows x 1919 columns]",
      "text/html": "<div>\n<style scoped>\n    .dataframe tbody tr th:only-of-type {\n        vertical-align: middle;\n    }\n\n    .dataframe tbody tr th {\n        vertical-align: top;\n    }\n\n    .dataframe thead th {\n        text-align: right;\n    }\n</style>\n<table border=\"1\" class=\"dataframe\">\n  <thead>\n    <tr style=\"text-align: right;\">\n      <th></th>\n      <th>id</th>\n      <th>item_id</th>\n      <th>dept_id</th>\n      <th>cat_id</th>\n      <th>store_id</th>\n      <th>state_id</th>\n      <th>d_1</th>\n      <th>d_2</th>\n      <th>d_3</th>\n      <th>d_4</th>\n      <th>...</th>\n      <th>d_1904</th>\n      <th>d_1905</th>\n      <th>d_1906</th>\n      <th>d_1907</th>\n      <th>d_1908</th>\n      <th>d_1909</th>\n      <th>d_1910</th>\n      <th>d_1911</th>\n      <th>d_1912</th>\n      <th>d_1913</th>\n    </tr>\n  </thead>\n  <tbody>\n    <tr>\n      <th>0</th>\n      <td>HOBBIES_1_001_CA_1_validation</td>\n      <td>HOBBIES_1_001</td>\n      <td>HOBBIES_1</td>\n      <td>HOBBIES</td>\n      <td>CA_1</td>\n      <td>CA</td>\n      <td>0</td>\n      <td>0</td>\n      <td>0</td>\n      <td>0</td>\n      <td>...</td>\n      <td>1</td>\n      <td>3</td>\n      <td>0</td>\n      <td>1</td>\n      <td>1</td>\n      <td>1</td>\n      <td>3</td>\n      <td>0</td>\n      <td>1</td>\n      <td>1</td>\n    </tr>\n    <tr>\n      <th>1</th>\n      <td>HOBBIES_1_002_CA_1_validation</td>\n      <td>HOBBIES_1_002</td>\n      <td>HOBBIES_1</td>\n      <td>HOBBIES</td>\n      <td>CA_1</td>\n      <td>CA</td>\n      <td>0</td>\n      <td>0</td>\n      <td>0</td>\n      <td>0</td>\n      <td>...</td>\n      <td>0</td>\n      <td>0</td>\n      <td>0</td>\n      <td>0</td>\n      <td>0</td>\n      <td>1</td>\n      <td>0</td>\n      <td>0</td>\n      <td>0</td>\n      <td>0</td>\n    </tr>\n    <tr>\n      <th>2</th>\n      <td>HOBBIES_1_003_CA_1_validation</td>\n      <td>HOBBIES_1_003</td>\n      <td>HOBBIES_1</td>\n      <td>HOBBIES</td>\n      <td>CA_1</td>\n      <td>CA</td>\n      <td>0</td>\n      <td>0</td>\n      <td>0</td>\n      <td>0</td>\n      <td>...</td>\n      <td>2</td>\n      <td>1</td>\n      <td>2</td>\n      <td>1</td>\n      <td>1</td>\n      <td>1</td>\n      <td>0</td>\n      <td>1</td>\n      <td>1</td>\n      <td>1</td>\n    </tr>\n    <tr>\n      <th>3</th>\n      <td>HOBBIES_1_004_CA_1_validation</td>\n      <td>HOBBIES_1_004</td>\n      <td>HOBBIES_1</td>\n      <td>HOBBIES</td>\n      <td>CA_1</td>\n      <td>CA</td>\n      <td>0</td>\n      <td>0</td>\n      <td>0</td>\n      <td>0</td>\n      <td>...</td>\n      <td>1</td>\n      <td>0</td>\n      <td>5</td>\n      <td>4</td>\n      <td>1</td>\n      <td>0</td>\n      <td>1</td>\n      <td>3</td>\n      <td>7</td>\n      <td>2</td>\n    </tr>\n    <tr>\n      <th>4</th>\n      <td>HOBBIES_1_005_CA_1_validation</td>\n      <td>HOBBIES_1_005</td>\n      <td>HOBBIES_1</td>\n      <td>HOBBIES</td>\n      <td>CA_1</td>\n      <td>CA</td>\n      <td>0</td>\n      <td>0</td>\n      <td>0</td>\n      <td>0</td>\n      <td>...</td>\n      <td>2</td>\n      <td>1</td>\n      <td>1</td>\n      <td>0</td>\n      <td>1</td>\n      <td>1</td>\n      <td>2</td>\n      <td>2</td>\n      <td>2</td>\n      <td>4</td>\n    </tr>\n    <tr>\n      <th>...</th>\n      <td>...</td>\n      <td>...</td>\n      <td>...</td>\n      <td>...</td>\n      <td>...</td>\n      <td>...</td>\n      <td>...</td>\n      <td>...</td>\n      <td>...</td>\n      <td>...</td>\n      <td>...</td>\n      <td>...</td>\n      <td>...</td>\n      <td>...</td>\n      <td>...</td>\n      <td>...</td>\n      <td>...</td>\n      <td>...</td>\n      <td>...</td>\n      <td>...</td>\n      <td>...</td>\n    </tr>\n    <tr>\n      <th>30485</th>\n      <td>FOODS_3_823_WI_3_validation</td>\n      <td>FOODS_3_823</td>\n      <td>FOODS_3</td>\n      <td>FOODS</td>\n      <td>WI_3</td>\n      <td>WI</td>\n      <td>0</td>\n      <td>0</td>\n      <td>2</td>\n      <td>2</td>\n      <td>...</td>\n      <td>2</td>\n      <td>0</td>\n      <td>0</td>\n      <td>0</td>\n      <td>0</td>\n      <td>0</td>\n      <td>1</td>\n      <td>0</td>\n      <td>0</td>\n      <td>1</td>\n    </tr>\n    <tr>\n      <th>30486</th>\n      <td>FOODS_3_824_WI_3_validation</td>\n      <td>FOODS_3_824</td>\n      <td>FOODS_3</td>\n      <td>FOODS</td>\n      <td>WI_3</td>\n      <td>WI</td>\n      <td>0</td>\n      <td>0</td>\n      <td>0</td>\n      <td>0</td>\n      <td>...</td>\n      <td>0</td>\n      <td>0</td>\n      <td>0</td>\n      <td>0</td>\n      <td>0</td>\n      <td>0</td>\n      <td>0</td>\n      <td>0</td>\n      <td>1</td>\n      <td>0</td>\n    </tr>\n    <tr>\n      <th>30487</th>\n      <td>FOODS_3_825_WI_3_validation</td>\n      <td>FOODS_3_825</td>\n      <td>FOODS_3</td>\n      <td>FOODS</td>\n      <td>WI_3</td>\n      <td>WI</td>\n      <td>0</td>\n      <td>6</td>\n      <td>0</td>\n      <td>2</td>\n      <td>...</td>\n      <td>2</td>\n      <td>1</td>\n      <td>0</td>\n      <td>2</td>\n      <td>0</td>\n      <td>1</td>\n      <td>0</td>\n      <td>0</td>\n      <td>1</td>\n      <td>0</td>\n    </tr>\n    <tr>\n      <th>30488</th>\n      <td>FOODS_3_826_WI_3_validation</td>\n      <td>FOODS_3_826</td>\n      <td>FOODS_3</td>\n      <td>FOODS</td>\n      <td>WI_3</td>\n      <td>WI</td>\n      <td>0</td>\n      <td>0</td>\n      <td>0</td>\n      <td>0</td>\n      <td>...</td>\n      <td>0</td>\n      <td>0</td>\n      <td>1</td>\n      <td>0</td>\n      <td>0</td>\n      <td>1</td>\n      <td>0</td>\n      <td>3</td>\n      <td>1</td>\n      <td>3</td>\n    </tr>\n    <tr>\n      <th>30489</th>\n      <td>FOODS_3_827_WI_3_validation</td>\n      <td>FOODS_3_827</td>\n      <td>FOODS_3</td>\n      <td>FOODS</td>\n      <td>WI_3</td>\n      <td>WI</td>\n      <td>0</td>\n      <td>0</td>\n      <td>0</td>\n      <td>0</td>\n      <td>...</td>\n      <td>0</td>\n      <td>0</td>\n      <td>0</td>\n      <td>0</td>\n      <td>0</td>\n      <td>0</td>\n      <td>0</td>\n      <td>0</td>\n      <td>0</td>\n      <td>0</td>\n    </tr>\n  </tbody>\n</table>\n<p>30490 rows × 1919 columns</p>\n</div>"
     },
     "metadata": {},
     "execution_count": 8
    }
   ],
   "source": [
    "df_sales"
   ]
  },
  {
   "cell_type": "markdown",
   "metadata": {},
   "source": [
    "## Resume:\n",
    "- ### \n",
    "- ### df_calendar and df_price will be used for improve the accuracy of the "
   ]
  }
 ],
 "metadata": {
  "language_info": {
   "codemirror_mode": {
    "name": "ipython",
    "version": 3
   },
   "file_extension": ".py",
   "mimetype": "text/x-python",
   "name": "python",
   "nbconvert_exporter": "python",
   "pygments_lexer": "ipython3",
   "version": "3.7.5-final"
  },
  "orig_nbformat": 2,
  "kernelspec": {
   "name": "python37564bit719807a1e0e543508e6e5d4a60b830f8",
   "display_name": "Python 3.7.5 64-bit"
  }
 },
 "nbformat": 4,
 "nbformat_minor": 2
}